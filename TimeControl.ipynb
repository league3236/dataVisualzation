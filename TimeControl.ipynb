{
  "nbformat": 4,
  "nbformat_minor": 0,
  "metadata": {
    "colab": {
      "name": "TimeControl.ipynb",
      "version": "0.3.2",
      "provenance": [],
      "include_colab_link": true
    },
    "kernelspec": {
      "name": "python3",
      "display_name": "Python 3"
    }
  },
  "cells": [
    {
      "cell_type": "markdown",
      "metadata": {
        "id": "view-in-github",
        "colab_type": "text"
      },
      "source": [
        "<a href=\"https://colab.research.google.com/github/league3236/dataVisualzation/blob/master/TimeControl.ipynb\" target=\"_parent\"><img src=\"https://colab.research.google.com/assets/colab-badge.svg\" alt=\"Open In Colab\"/></a>"
      ]
    },
    {
      "metadata": {
        "id": "p2fbobarPjo-",
        "colab_type": "code",
        "colab": {
          "base_uri": "https://localhost:8080/",
          "height": 68
        },
        "outputId": "2b05bce4-7959-4334-f043-9646a767501e"
      },
      "cell_type": "code",
      "source": [
        "from datetime import datetime\n",
        "\n",
        "print(datetime.today())            # 현재 날짜 가져오기\n",
        "now = datetime.today().strftime(\"%Y%m%d%H%M%S\")    # YYYYmmddHHMMSS 형태의 시간 출력\n",
        "print(type(now))\n",
        "print(now)\n",
        "\n",
        "#datetime string을 timestamp로 변환\n",
        "\n"
      ],
      "execution_count": 7,
      "outputs": [
        {
          "output_type": "stream",
          "text": [
            "2019-03-17 06:24:29.418283\n",
            "<class 'str'>\n",
            "20190317062429\n"
          ],
          "name": "stdout"
        }
      ]
    },
    {
      "metadata": {
        "id": "rsmqzJp2Pqey",
        "colab_type": "code",
        "colab": {
          "base_uri": "https://localhost:8080/",
          "height": 102
        },
        "outputId": "f54b0463-74e0-487b-f561-22a587430879"
      },
      "cell_type": "code",
      "source": [
        "!pip install pytz\n",
        "\n",
        "from pytz import timezone\n",
        "from datetime import datetime\n",
        " \n",
        "fmt = \"%Y-%m-%d %H:%M:%S %Z%z\"\n",
        "UTC = datetime.now(timezone('UTC'))\n",
        "KST = datetime.now(timezone('Asia/Seoul'))\n",
        "\n",
        "print(UTC)\n",
        "print(KST)\n",
        " \n",
        "print(UTC.strftime(fmt))\n",
        "print(KST.strftime(fmt))\n",
        "\n",
        "\n"
      ],
      "execution_count": 8,
      "outputs": [
        {
          "output_type": "stream",
          "text": [
            "Requirement already satisfied: pytz in /usr/local/lib/python3.6/dist-packages (2018.9)\n",
            "2019-03-17 06:41:47.271772+00:00\n",
            "2019-03-17 15:41:47.295269+09:00\n",
            "2019-03-17 06:41:47 UTC+0000\n",
            "2019-03-17 15:41:47 KST+0900\n"
          ],
          "name": "stdout"
        }
      ]
    },
    {
      "metadata": {
        "id": "489hltLmYnV6",
        "colab_type": "code",
        "colab": {}
      },
      "cell_type": "code",
      "source": [
        ""
      ],
      "execution_count": 0,
      "outputs": []
    }
  ]
}